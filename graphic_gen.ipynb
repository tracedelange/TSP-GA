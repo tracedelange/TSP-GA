{
 "cells": [
  {
   "cell_type": "code",
   "execution_count": 2,
   "metadata": {},
   "outputs": [],
   "source": [
    "from resources import *"
   ]
  },
  {
   "cell_type": "code",
   "execution_count": 3,
   "metadata": {},
   "outputs": [],
   "source": [
    "cities = generate_cities(8)"
   ]
  },
  {
   "cell_type": "code",
   "execution_count": 29,
   "metadata": {},
   "outputs": [
    {
     "data": {
      "text/plain": [
       "([(94, 34),\n",
       "  (20, 47),\n",
       "  (4, 79),\n",
       "  (83, 80),\n",
       "  (15, 42),\n",
       "  (84, 11),\n",
       "  (94, 93),\n",
       "  (85, 81)],\n",
       " [94, 20, 4, 83, 15, 84, 94, 85],\n",
       " [34, 47, 79, 80, 42, 11, 93, 81])"
      ]
     },
     "execution_count": 29,
     "metadata": {},
     "output_type": "execute_result"
    }
   ],
   "source": [
    "cities"
   ]
  },
  {
   "cell_type": "code",
   "execution_count": 30,
   "metadata": {},
   "outputs": [
    {
     "ename": "TypeError",
     "evalue": "graph_cities() missing 1 required positional argument: 'route'",
     "output_type": "error",
     "traceback": [
      "\u001b[0;31m---------------------------------------------------------------------------\u001b[0m",
      "\u001b[0;31mTypeError\u001b[0m                                 Traceback (most recent call last)",
      "\u001b[0;32m<ipython-input-30-9ee99cf9faf0>\u001b[0m in \u001b[0;36m<module>\u001b[0;34m\u001b[0m\n\u001b[0;32m----> 1\u001b[0;31m \u001b[0mgraph_cities\u001b[0m\u001b[0;34m(\u001b[0m\u001b[0mcities\u001b[0m\u001b[0;34m[\u001b[0m\u001b[0;36m0\u001b[0m\u001b[0;34m]\u001b[0m\u001b[0;34m)\u001b[0m\u001b[0;34m\u001b[0m\u001b[0;34m\u001b[0m\u001b[0m\n\u001b[0m",
      "\u001b[0;31mTypeError\u001b[0m: graph_cities() missing 1 required positional argument: 'route'"
     ]
    }
   ],
   "source": [
    "graph_cities(cities[0])"
   ]
  },
  {
   "cell_type": "code",
   "execution_count": 31,
   "metadata": {},
   "outputs": [],
   "source": [
    "def crunch(coordinates):\n",
    "    \n",
    "    x = [coordinate[0] for coordinate in coordinates]\n",
    "    y = [coordinate[1] for coordinate in coordinates]\n",
    "    \n",
    "#     start = time.process_time()\n",
    "\n",
    "    # Generate a list of all possible combinations or routes from point to point\n",
    "    combs = itertools.permutations(coordinates, len(coordinates))\n",
    "\n",
    "    #Iterate through the permutation generator and append each uniquie route to 'routes'. Routes that are identical forward and backwards are removed since they are equal in distance.\n",
    "    routes = []\n",
    "    for p in combs:\n",
    "        if p[0] <= p[-1]:\n",
    "            routes.append(list(p))\n",
    "\n",
    "#     #For each route, calculate the total distance\n",
    "#     for route in routes:\n",
    "#         distance = 0\n",
    "#         for i in range(len(route)):\n",
    "#             try:\n",
    "#                 d = get_distance(route[i][0], route[i][1],route[i+1][0], route[i+1][1])\n",
    "#                 distance = distance + d\n",
    "#             except:\n",
    "#                 route.append(round(distance,2))\n",
    "#                 continue\n",
    "\n",
    "\n",
    "#     end = time.process_time()\n",
    "#     total_count = len(combs)\n",
    "    path_count = len(routes)\n",
    "#     process_time = str(end-start)\n",
    "#     print(process_time)\n",
    "    print('Number of paths generated: ' + str(len(routes)))\n",
    "    \n",
    "    #Identify the path of shortest and longest distance\n",
    "#     optimum = min(routes, key = lambda t: t[(len(routes[0])-1)])\n",
    "#     worst = max(routes, key = lambda t: t[(len(routes[0])-1)])\n",
    "    \n",
    "    return path_count"
   ]
  },
  {
   "cell_type": "code",
   "execution_count": null,
   "metadata": {},
   "outputs": [],
   "source": []
  },
  {
   "cell_type": "code",
   "execution_count": 32,
   "metadata": {},
   "outputs": [
    {
     "ename": "TypeError",
     "evalue": "graph_cities() missing 1 required positional argument: 'route'",
     "output_type": "error",
     "traceback": [
      "\u001b[0;31m---------------------------------------------------------------------------\u001b[0m",
      "\u001b[0;31mTypeError\u001b[0m                                 Traceback (most recent call last)",
      "\u001b[0;32m<ipython-input-32-ca89d36c3d8e>\u001b[0m in \u001b[0;36m<module>\u001b[0;34m\u001b[0m\n\u001b[0;32m----> 1\u001b[0;31m \u001b[0mgraph_cities\u001b[0m\u001b[0;34m(\u001b[0m\u001b[0mcities\u001b[0m\u001b[0;34m[\u001b[0m\u001b[0;36m0\u001b[0m\u001b[0;34m]\u001b[0m\u001b[0;34m)\u001b[0m\u001b[0;34m\u001b[0m\u001b[0;34m\u001b[0m\u001b[0m\n\u001b[0m\u001b[1;32m      2\u001b[0m \u001b[0mplt\u001b[0m\u001b[0;34m.\u001b[0m\u001b[0mtitle\u001b[0m\u001b[0;34m(\u001b[0m\u001b[0;34m'Coordinates'\u001b[0m\u001b[0;34m)\u001b[0m\u001b[0;34m\u001b[0m\u001b[0;34m\u001b[0m\u001b[0m\n\u001b[1;32m      3\u001b[0m \u001b[0mplt\u001b[0m\u001b[0;34m.\u001b[0m\u001b[0msavefig\u001b[0m\u001b[0;34m(\u001b[0m\u001b[0;34m'coordinates.png'\u001b[0m\u001b[0;34m)\u001b[0m\u001b[0;34m\u001b[0m\u001b[0;34m\u001b[0m\u001b[0m\n",
      "\u001b[0;31mTypeError\u001b[0m: graph_cities() missing 1 required positional argument: 'route'"
     ]
    }
   ],
   "source": [
    "graph_cities(cities[0])\n",
    "plt.title('Coordinates')\n",
    "plt.savefig('coordinates.png')"
   ]
  },
  {
   "cell_type": "code",
   "execution_count": 7,
   "metadata": {},
   "outputs": [],
   "source": [
    "cities = generate_cities(5)"
   ]
  },
  {
   "cell_type": "code",
   "execution_count": 8,
   "metadata": {},
   "outputs": [],
   "source": [
    "coordinates = cities[0]"
   ]
  },
  {
   "cell_type": "code",
   "execution_count": 9,
   "metadata": {},
   "outputs": [],
   "source": [
    "coordinates = [(8, 46), (88, 32), (77, 42), (40, 61), (14, 54)]"
   ]
  },
  {
   "cell_type": "code",
   "execution_count": 10,
   "metadata": {},
   "outputs": [
    {
     "data": {
      "text/plain": [
       "[(8, 46), (88, 32), (77, 42), (40, 61), (14, 54)]"
      ]
     },
     "execution_count": 10,
     "metadata": {},
     "output_type": "execute_result"
    }
   ],
   "source": [
    "coordinates"
   ]
  },
  {
   "cell_type": "code",
   "execution_count": 33,
   "metadata": {},
   "outputs": [
    {
     "name": "stdout",
     "output_type": "stream",
     "text": [
      "Number of paths generated: 20160\n"
     ]
    },
    {
     "data": {
      "text/plain": [
       "20160"
      ]
     },
     "execution_count": 33,
     "metadata": {},
     "output_type": "execute_result"
    }
   ],
   "source": [
    "crunch(cities[0])"
   ]
  },
  {
   "cell_type": "code",
   "execution_count": 12,
   "metadata": {},
   "outputs": [
    {
     "name": "stdout",
     "output_type": "stream",
     "text": [
      "0.0012500000000001954\n",
      "Number of paths generated: 60\n"
     ]
    }
   ],
   "source": [
    "solution = exact_solution(coordinates)"
   ]
  },
  {
   "cell_type": "code",
   "execution_count": 18,
   "metadata": {},
   "outputs": [
    {
     "data": {
      "text/plain": [
       "([(8, 46), (14, 54), (40, 61), (77, 42), (88, 32), 93.39],\n",
       " [(14, 54), (77, 42), (8, 46), (88, 32), (40, 61), 270.55],\n",
       " [8, 88, 77, 40, 14],\n",
       " [46, 32, 42, 61, 54],\n",
       " 60)"
      ]
     },
     "execution_count": 18,
     "metadata": {},
     "output_type": "execute_result"
    }
   ],
   "source": [
    "solution"
   ]
  },
  {
   "cell_type": "code",
   "execution_count": 19,
   "metadata": {},
   "outputs": [
    {
     "data": {
      "image/png": "[encoded data removed]",
      "text/plain": [
       "<Figure size 432x288 with 2 Axes>"
      ]
     },
     "metadata": {
      "needs_background": "light"
     },
     "output_type": "display_data"
    }
   ],
   "source": [
    "graph_solution(solution[0], solution[1], solution[2],solution[3],60,5)"
   ]
  },
  {
   "cell_type": "code",
   "execution_count": 16,
   "metadata": {},
   "outputs": [
    {
     "data": {
      "text/plain": [
       "(<Figure size 720x720 with 2 Axes>,\n",
       " <matplotlib.axes._subplots.AxesSubplot at 0x7fb40e7c2a50>,\n",
       " <matplotlib.axes._subplots.AxesSubplot at 0x7fb40e9524d0>)"
      ]
     },
     "execution_count": 16,
     "metadata": {},
     "output_type": "execute_result"
    },
    {
     "data": {
      "image/png": "[encoded data removed]",
      "text/plain": [
       "<Figure size 720x720 with 2 Axes>"
      ]
     },
     "metadata": {
      "needs_background": "light"
     },
     "output_type": "display_data"
    }
   ],
   "source": [
    "graph_route(coordinates,solution[0])"
   ]
  },
  {
   "cell_type": "code",
   "execution_count": 20,
   "metadata": {},
   "outputs": [],
   "source": [
    "def graph_solution_alone(coordinates, route): \n",
    "    #graph the cities without solution:\n",
    "    fig, (ax1, ax2) = plt.subplots(1, 2)\n",
    "\n",
    "    ax1.plot(x, y, 'o', color='black');\n",
    "    ax1.axis('equal')\n",
    "    ax1.set_title(str(n_cities) + ' Cities, ' + str(path_count) + ' Paths' )\n",
    "    ax2.plot(x, y, 'o', color='black');\n",
    "\n",
    "    for i in range(len(optimum)-1):\n",
    "        try:\n",
    "            connectpoints(ax2, optimum[i][0],optimum[i][1],optimum[i+1][0],optimum[i+1][1])\n",
    "        except:\n",
    "            continue\n",
    "    ax2.axis('equal')\n",
    "    ax2.set_title(str(n_cities) + ' Cities, Total Distance: ' + str(optimum[-1]))\n",
    "\n",
    "\n",
    "    ax1.axes.xaxis.set_visible(False)\n",
    "    ax1.axes.yaxis.set_visible(False)\n",
    "    ax2.axes.xaxis.set_visible(False)\n",
    "    ax2.axes.yaxis.set_visible(False)\n",
    "\n",
    "    fig.show()"
   ]
  },
  {
   "cell_type": "code",
   "execution_count": 22,
   "metadata": {},
   "outputs": [],
   "source": [
    "def graph_cities_route(coordinates, route):\n",
    "\n",
    "    x = [coordinate[0] for coordinate in coordinates]\n",
    "    y = [coordinate[1] for coordinate in coordinates]\n",
    "    \n",
    "    fig, ax = plt.subplots(1, 1, figsize=(7.5,6))\n",
    "\n",
    "    ax.plot(x, y, 'o', color='black');\n",
    "    ax.axis('equal')\n",
    "    \n",
    "    for i in range(len(route)-1):\n",
    "        try:\n",
    "            connectpoints(ax, route[i][0],route[i][1],route[i+1][0],route[i+1][1])\n",
    "        except:\n",
    "            continue\n",
    "\n",
    "    #ax1.axes.xaxis.set_visible(False)\n",
    "    #ax1.axes.yaxis.set_visible(False)\n",
    "\n",
    "\n",
    "    fig.show()\n",
    "\n",
    "    #image = fig.savefig('coordinates.jpg')\n",
    "\n",
    "    return fig, ax\n"
   ]
  },
  {
   "cell_type": "code",
   "execution_count": 24,
   "metadata": {},
   "outputs": [
    {
     "data": {
      "image/png": "[encoded data removed]",
      "text/plain": [
       "<Figure size 540x432 with 1 Axes>"
      ]
     },
     "metadata": {
      "needs_background": "light"
     },
     "output_type": "display_data"
    }
   ],
   "source": [
    "graph_cities_route(coordinates, solution[0])\n",
    "plt.title('Coordinates with Solution')\n",
    "plt.savefig('coordinates_with_solution.png')"
   ]
  },
  {
   "cell_type": "code",
   "execution_count": 35,
   "metadata": {},
   "outputs": [
    {
     "data": {
      "text/plain": [
       "60.0"
      ]
     },
     "execution_count": 35,
     "metadata": {},
     "output_type": "execute_result"
    }
   ],
   "source": [
    "(math.factorial(5))/2"
   ]
  },
  {
   "cell_type": "code",
   "execution_count": 36,
   "metadata": {},
   "outputs": [
    {
     "data": {
      "text/plain": [
       "60.0"
      ]
     },
     "execution_count": 36,
     "metadata": {},
     "output_type": "execute_result"
    }
   ],
   "source": [
    "def n_routes(n_cities):\n",
    "    return (math.factorial(n_cities))/2\n",
    "\n",
    "n_routes(5)\n"
   ]
  },
  {
   "cell_type": "code",
   "execution_count": 39,
   "metadata": {},
   "outputs": [
    {
     "data": {
      "text/plain": [
       "1814400.0"
      ]
     },
     "execution_count": 39,
     "metadata": {},
     "output_type": "execute_result"
    }
   ],
   "source": [
    "n_routes(10)"
   ]
  },
  {
   "cell_type": "code",
   "execution_count": 41,
   "metadata": {},
   "outputs": [
    {
     "data": {
      "text/plain": [
       "19958400.0"
      ]
     },
     "execution_count": 41,
     "metadata": {},
     "output_type": "execute_result"
    }
   ],
   "source": [
    "n_routes(11)"
   ]
  },
  {
   "cell_type": "code",
   "execution_count": 42,
   "metadata": {},
   "outputs": [
    {
     "data": {
      "text/plain": [
       "239500800.0"
      ]
     },
     "execution_count": 42,
     "metadata": {},
     "output_type": "execute_result"
    }
   ],
   "source": [
    "n_routes(12)"
   ]
  },
  {
   "cell_type": "markdown",
   "metadata": {},
   "source": [
    "061121 Function cleanup for blog posts:"
   ]
  },
  {
   "cell_type": "code",
   "execution_count": 4,
   "metadata": {},
   "outputs": [],
   "source": [
    "# clean this up to only take a set of coordinates? a little redundant to require x and y considering they are derivatices of coordinates\n",
    "def exact_solution(coordinates):\n",
    "\n",
    "    x = [coordinate[0] for coordinate in coordinates]\n",
    "    y = [coordinate[1] for coordinate in coordinates]\n",
    "    \n",
    "    start = time.process_time()\n",
    "\n",
    "    # Generate a list of all possible combinations or routes from point to point\n",
    "    combs = itertools.permutations(coordinates, len(coordinates))\n",
    "\n",
    "    #Iterate through the permutation generator and append each uniquie route to 'routes'. Routes that are identical forward and backwards are removed since they are equal in distance.\n",
    "    routes = []\n",
    "    for p in combs:\n",
    "        if p[0] <= p[-1]:\n",
    "            routes.append(list(p))\n",
    "\n",
    "    #For each route, calculate the total distance\n",
    "    for route in routes:\n",
    "        distance = 0\n",
    "        for i in range(len(route)):\n",
    "            try:\n",
    "                d = get_distance(route[i][0], route[i][1],route[i+1][0], route[i+1][1])\n",
    "                distance = distance + d\n",
    "            except:\n",
    "                route.append(round(distance,2))\n",
    "                continue"
   ]
  },
  {
   "cell_type": "code",
   "execution_count": 7,
   "metadata": {},
   "outputs": [
    {
     "data": {
      "text/plain": [
       "([(84, 11),\n",
       "  (80, 36),\n",
       "  (66, 72),\n",
       "  (61, 40),\n",
       "  (36, 73),\n",
       "  (73, 35),\n",
       "  (43, 26),\n",
       "  (2, 43)],\n",
       " [84, 80, 66, 61, 36, 73, 43, 2],\n",
       " [11, 36, 72, 40, 73, 35, 26, 43])"
      ]
     },
     "execution_count": 7,
     "metadata": {},
     "output_type": "execute_result"
    }
   ],
   "source": [
    "cities"
   ]
  },
  {
   "cell_type": "code",
   "execution_count": 6,
   "metadata": {},
   "outputs": [
    {
     "ename": "TypeError",
     "evalue": "'<=' not supported between instances of 'tuple' and 'int'",
     "output_type": "error",
     "traceback": [
      "\u001b[0;31m---------------------------------------------------------------------------\u001b[0m",
      "\u001b[0;31mTypeError\u001b[0m                                 Traceback (most recent call last)",
      "\u001b[0;32m<ipython-input-6-020129c9ef10>\u001b[0m in \u001b[0;36m<module>\u001b[0;34m\u001b[0m\n\u001b[0;32m----> 1\u001b[0;31m \u001b[0msolution\u001b[0m \u001b[0;34m=\u001b[0m \u001b[0mexact_solution\u001b[0m\u001b[0;34m(\u001b[0m\u001b[0mcities\u001b[0m\u001b[0;34m)\u001b[0m\u001b[0;34m\u001b[0m\u001b[0;34m\u001b[0m\u001b[0m\n\u001b[0m",
      "\u001b[0;32m<ipython-input-4-5acbbf4fcba4>\u001b[0m in \u001b[0;36mexact_solution\u001b[0;34m(coordinates)\u001b[0m\n\u001b[1;32m     13\u001b[0m     \u001b[0mroutes\u001b[0m \u001b[0;34m=\u001b[0m \u001b[0;34m[\u001b[0m\u001b[0;34m]\u001b[0m\u001b[0;34m\u001b[0m\u001b[0;34m\u001b[0m\u001b[0m\n\u001b[1;32m     14\u001b[0m     \u001b[0;32mfor\u001b[0m \u001b[0mp\u001b[0m \u001b[0;32min\u001b[0m \u001b[0mcombs\u001b[0m\u001b[0;34m:\u001b[0m\u001b[0;34m\u001b[0m\u001b[0;34m\u001b[0m\u001b[0m\n\u001b[0;32m---> 15\u001b[0;31m         \u001b[0;32mif\u001b[0m \u001b[0mp\u001b[0m\u001b[0;34m[\u001b[0m\u001b[0;36m0\u001b[0m\u001b[0;34m]\u001b[0m \u001b[0;34m<=\u001b[0m \u001b[0mp\u001b[0m\u001b[0;34m[\u001b[0m\u001b[0;34m-\u001b[0m\u001b[0;36m1\u001b[0m\u001b[0;34m]\u001b[0m\u001b[0;34m:\u001b[0m\u001b[0;34m\u001b[0m\u001b[0;34m\u001b[0m\u001b[0m\n\u001b[0m\u001b[1;32m     16\u001b[0m             \u001b[0mroutes\u001b[0m\u001b[0;34m.\u001b[0m\u001b[0mappend\u001b[0m\u001b[0;34m(\u001b[0m\u001b[0mlist\u001b[0m\u001b[0;34m(\u001b[0m\u001b[0mp\u001b[0m\u001b[0;34m)\u001b[0m\u001b[0;34m)\u001b[0m\u001b[0;34m\u001b[0m\u001b[0;34m\u001b[0m\u001b[0m\n\u001b[1;32m     17\u001b[0m \u001b[0;34m\u001b[0m\u001b[0m\n",
      "\u001b[0;31mTypeError\u001b[0m: '<=' not supported between instances of 'tuple' and 'int'"
     ]
    }
   ],
   "source": [
    "solution = exact_solution(cities)"
   ]
  },
  {
   "cell_type": "code",
   "execution_count": null,
   "metadata": {},
   "outputs": [],
   "source": []
  }
 ],
 "metadata": {
  "kernelspec": {
   "display_name": "Python 3",
   "language": "python",
   "name": "python3"
  },
  "language_info": {
   "codemirror_mode": {
    "name": "ipython",
    "version": 3
   },
   "file_extension": ".py",
   "mimetype": "text/x-python",
   "name": "python",
   "nbconvert_exporter": "python",
   "pygments_lexer": "ipython3",
   "version": "3.7.4"
  }
 },
 "nbformat": 4,
 "nbformat_minor": 4
}
